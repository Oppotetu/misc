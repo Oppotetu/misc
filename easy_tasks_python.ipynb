{
 "cells": [
  {
   "cell_type": "code",
   "execution_count": null,
   "metadata": {},
   "outputs": [],
   "source": [
    "# easy tasks in python\n",
    "\n",
    "n1 = 200\n",
    "n2 = 11\n",
    "x = n1 * n2\n",
    "if x > 1000: \n",
    "    print(x)\n",
    "if x <= 1000:\n",
    "    print(n1+n2) \n",
    "if x > 2000: \n",
    "    print(n1**n2)"
   ]
  },
  {
   "cell_type": "code",
   "execution_count": 1,
   "id": "8299ec06",
   "metadata": {},
   "outputs": [
    {
     "name": "stdout",
     "output_type": "stream",
     "text": [
      "1\n",
      "2\n",
      "3\n",
      "5\n",
      "8\n",
      "13\n",
      "21\n",
      "34\n",
      "55\n",
      "89\n"
     ]
    }
   ],
   "source": [
    "# fibonacci\n",
    "\n",
    "n_terms = int(10)\n",
    "\n",
    "n3 = 0\n",
    "n4 = 1\n",
    "count = 0\n",
    "while count < n_terms:\n",
    "    nth = n3 + n4\n",
    "    print(nth)\n",
    "    n3 = n4\n",
    "    n4 = nth\n",
    "    count += 1"
   ]
  },
  {
   "cell_type": "code",
   "execution_count": 2,
   "id": "080b067d",
   "metadata": {},
   "outputs": [
    {
     "name": "stdout",
     "output_type": "stream",
     "text": [
      "13\n",
      "13\n",
      "12586269025\n"
     ]
    }
   ],
   "source": [
    "# fibonacci recursive memoization\n",
    "\n",
    "# brute force implementation\n",
    "def fib(n):\n",
    "    if n <= 2: return 1\n",
    "    else:\n",
    "        return (fib(n-1) + fib(n-2))\n",
    "\n",
    "print(fib(7))\n",
    "\n",
    "# with memoization\n",
    "memo = {}\n",
    "\n",
    "def fib(n):\n",
    "    \n",
    "    if n in memo: return memo[n]\n",
    "    if n <= 2:\n",
    "        return 1\n",
    "\n",
    "    else: \n",
    "        memo[n] = (fib(n-1) + fib(n-2))\n",
    "    return memo[n]\n",
    " \n",
    "print(fib(7))\n",
    "print(fib(50))\n"
   ]
  },
  {
   "cell_type": "code",
   "execution_count": 3,
   "id": "34351cd9",
   "metadata": {},
   "outputs": [
    {
     "data": {
      "text/plain": [
       "{'10': 5}"
      ]
     },
     "execution_count": 3,
     "metadata": {},
     "output_type": "execute_result"
    }
   ],
   "source": [
    "\n",
    "def test(k): \n",
    "\n",
    "    testdict = {}\n",
    "    testdict[f'{k}'] = k\n",
    "    if testdict[f'{k}'] < 200: \n",
    "        testdict[f'{k}'] = 5 \n",
    "        return testdict \n",
    "    \n",
    "test(10)"
   ]
  }
 ],
 "metadata": {
  "interpreter": {
   "hash": "ad2bdc8ecc057115af97d19610ffacc2b4e99fae6737bb82f5d7fb13d2f2c186"
  },
  "kernelspec": {
   "display_name": "Python 3.9.12 ('base')",
   "language": "python",
   "name": "python3"
  },
  "language_info": {
   "codemirror_mode": {
    "name": "ipython",
    "version": 3
   },
   "file_extension": ".py",
   "mimetype": "text/x-python",
   "name": "python",
   "nbconvert_exporter": "python",
   "pygments_lexer": "ipython3",
   "version": "3.9.12"
  }
 },
 "nbformat": 4,
 "nbformat_minor": 5
}
